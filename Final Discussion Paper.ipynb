{
 "cells": [
  {
   "cell_type": "markdown",
   "metadata": {},
   "source": [
    "# Grundy Numbers\n",
    "### Experimental Math Final Project\n",
    "### Author: Garrett Van Beek\n",
    "### Professor Diego Villamizar\n",
    "### May 8, 2020"
   ]
  },
  {
   "cell_type": "markdown",
   "metadata": {},
   "source": [
    "## I. Introduction\n",
    "For my project, I chose to study combinatorial game theory. Specifically, I looked at Grundy Numbers (a.k.a. Nimbers) and the Grundy-Sprague Theorem.\n",
    "\n",
    "### What is Combinatorial Game Theory\n",
    "The simplest definition of game theory is the study of \"games\". It is a field that seeks to find the best strategy within \"games\", which are really just interactions between two different parties, in which a utility is defined. There are many different types of games. Combinatorial games are games with the following properties:\n",
    "* Perfect Infomation: The entire state space is known.\n",
    "* Deterministic: players action have a deterministic effect on the world (100% chance of happening).\n",
    "* Zero-Sum: players can either win or lose, but not both. Draws are also possible\n",
    "* Terminating: a game may not go on forever\n",
    "\n",
    "### What is Nim?\n",
    "Nim is a game that falls into the Category of Combinatorial Games. The rules of nim are:\n",
    "* The game is initialized with an arbitrary number of piles. Each pile contains an arbitrary number of stones.\n",
    "* Players take turns removing stones from piles.\n",
    "* A player may only take from one pile per turn.\n",
    "* A player must take 1-3 stone(s) every turn.\n",
    "* The player who takes the last stone(s) wins.\n",
    "\n",
    "\n"
   ]
  },
  {
   "cell_type": "raw",
   "metadata": {},
   "source": [
    "PILE # |   STONES\n",
    "  0    | 0 0 0\n",
    "  1    | 0 0 0\n",
    "  2    | 0 0 0 0\n",
    "  3    | 0 0 0 0 0\n",
    "  4    | 0 0 0 0 0 0 0\n",
    "  5    | 0 0 0 0 0 0 0 0 0\n",
    "AS LIST  [3, 3, 4, 5, 7, 9]"
   ]
  },
  {
   "cell_type": "markdown",
   "metadata": {},
   "source": [
    "Nim is used used in the exploration of game theory because it has a very interesting property: Given the start state of any game, and the player who moves first, it is possible to determine the winner if both parties play optimally. This is incredibly significant because it can be abstracted and applied to other combinatorial games. In order to determine the winner of the game, and optimal play, one must first calculate the Grundy Number (a.k.a. Nimber) of that state.\n",
    "\n",
    "\n",
    "\n",
    "### How do we calculate Nimbers?\n",
    "Grundy numbers are calculated recursively. The base case is the losing state. It occurs when there are no stones left on the board for a player to draw. In this case, the player loses. All other states are defined recursively as the _minimal excludant of the set of Grundy number of successor states_.\n",
    "\n",
    "Once we have the Grundy Numbers of a game, we may, without playing the game, determine the winner of the game. This is what is known as the Grundy Sprague Theorem\n",
    "\n",
    "### The Grundy Sprague Theorem\n",
    "Suppose there is a composite game (made up of sub games), with two players A (moving first) or B (moving second). When both player play optimally, we may determine the winner as follows.\n",
    "\n",
    "* If the cumulative XOR the Grundy Numbers of the sub-games is 0, player A will lose.\n",
    "* Player A will wins otherwise.\n",
    "\n",
    "This theorem can be extended to other deterministic, impartial games of perfect information (tic-tac-toe for example), once we calculate the nimbers for the game."
   ]
  },
  {
   "cell_type": "markdown",
   "metadata": {},
   "source": [
    "## II. Exploration\n",
    "For the exploratory phase of my assignement. I chose to encode and analyze the game of nim. I created multiple agents that play the game of NIM. You may run these different agents, using the text-based user interface I created. `cd` into the folder of my project then run `python3 play_nim.py`. Note: this interface is not a best programming practice, but I chose it for ease of use. The best practice is to pass in the options as arguements to the function call.\n",
    "\n",
    "#### Random Agent\n",
    "It's important to start small. In order to test everything, I first made a random agent, that returns a random action. Play against it with option `r`."
   ]
  },
  {
   "cell_type": "code",
   "execution_count": null,
   "metadata": {},
   "outputs": [],
   "source": [
    "class random_player(nim_player):\n",
    "    def get_move(self, game_state):\n",
    "        take = -1\n",
    "        pile = random.randrange(0,len(game_state), 1)\n",
    "        #randomly select a number of stones to remove\n",
    "        take = random.choice([1,2,3])\n",
    "\n",
    "        # return an action, precisely the pile, take pair\n",
    "        print(\"random player removed \" + str(take) + \" stones from pile \" +str(pile))\n",
    "        return (pile, take)"
   ]
  },
  {
   "cell_type": "markdown",
   "metadata": {},
   "source": [
    "#### Human Agent\n",
    "This is an agent that asks the use to input the desired move. This is for testing and playing nim. You may play nim with your friends with option `h`."
   ]
  },
  {
   "cell_type": "code",
   "execution_count": null,
   "metadata": {},
   "outputs": [],
   "source": [
    "class human_player(nim_player):\n",
    "    def __init__(self):\n",
    "        print(\"Enter player name\")\n",
    "        self.name = input()\n",
    "    #print a visual of the nim game\n",
    "    def vis_game(self, game_state):\n",
    "        print(\"\\nPILE # |   STONES\")\n",
    "        for i in range(0, len(game_state)):\n",
    "            print(\"  \" + str(i) + \"    | \", end=\"\")\n",
    "\n",
    "            for j in range(game_state[i]):\n",
    "                print(\"0 \", end=\"\")\n",
    "            print(\"\")\n",
    "\n",
    "        print(\"AS LIST \", game_state)\n",
    "        print(\"\")\n",
    "        \n",
    "    '''Ask the human player to input a move'''\n",
    "    def get_move(self, game_state):\n",
    "        #print(game_state)\n",
    "        print(\"PLAYER \" + self.name)\n",
    "        self.vis_game(game_state)\n",
    "        while True:\n",
    "            pile = int(input(\"Enter a pile to take from: \"))\n",
    "            take = int(input(\"Enter the amount of stones to take (between 1 and 3): \"))\n",
    "            # input validation\n",
    "            if (pile < len(game_state)) and (pile >= 0) and (take > 0) and (take <= 3):\n",
    "                break\n",
    "            print(\"Invalid input, try again\")\n",
    "\n",
    "        return (pile, take)"
   ]
  },
  {
   "cell_type": "markdown",
   "metadata": {},
   "source": [
    "#### Binary XOR Agent\n",
    "It follows from the Grundy-Sprague Theorem that the an optimal action is one that places the opponent in a losing state. I encoded a Binary XOR Evaluation agent that determines an optimal action with the following pseudocode:\n",
    "_Calculate the cumulative binary XOR of the current game state. If it is zero, return an arbitrary action because the game is lost._\n",
    "_Otherwise, calculate the cumulative binary XOR of the successor state of every action. If a successor states cumulative XOR is zero, we have found a winning action. Return it.\n",
    "If no successor state with a cumulative binary XOR of zero is found. Return an arbitrary action. (optimal play is unkown)_\n",
    "\n",
    "This agent will play optimally except in edge cases where the cumulative XOR is non-zero and there are no succesor states such that the cumulative XOR is zero."
   ]
  },
  {
   "cell_type": "code",
   "execution_count": null,
   "metadata": {},
   "outputs": [],
   "source": [
    "'''calculate the nim_sum (cummulative XOR) for a given state'''\n",
    "def nim_sum(game_state):\n",
    "    acc_sum = 0\n",
    "    for i in game_state:\n",
    "        acc_sum = acc_sum ^ i\n",
    "    return acc_sum\n",
    "\n",
    "'''search for an action that makes the nim_sum zero'''\n",
    "def binary_policy(game_state):\n",
    "    if nim_sum(game_state) == 0:\n",
    "        print(\"BINARY: I can't win if you play optimally :P\")\n",
    "        return (0,1)\n",
    "    else:\n",
    "        for i in range(0, len(game_state)):\n",
    "            for j in range(1,4):\n",
    "                action = (i,j)\n",
    "                temp_state = game_state.copy()\n",
    "                temp_state[i] -= j\n",
    "                if nim_sum(temp_state) == 0:\n",
    "                    print(\"BINARY: There is nothing you can do to beat me LOSER!\")\n",
    "                    return action\n",
    "        print(\"BINARY: I can't find an optimal move, its anybody's game!\")\n",
    "        return (0,1)\n",
    "\n",
    "''' Player that follows the binary policy'''\n",
    "class binary_player(nim_player):\n",
    "    def get_move(self, game_state):\n",
    "        return binary_policy(game_state)"
   ]
  },
  {
   "cell_type": "markdown",
   "metadata": {},
   "source": [
    "Even though this agent plays with an optimal policy deduced from the Grundy-Sprague Theorem. This policy is not complete, in other words, the agent does not always play optimally. In order for a complete, optimal strategy, we must evaluate each state using Grundy numbers.\n",
    "\n",
    "#### Dynamic Agent\n",
    "The last agent I wrote used a dynamic programming algorithm to calculate the optimal move for any given game state of nim. It calculated the nimbers for each state recursively. Then it choses the optimal action, which was the action that minimized the minimal excludant of successor states. You may play against this agent with option `d`."
   ]
  },
  {
   "cell_type": "code",
   "execution_count": null,
   "metadata": {},
   "outputs": [],
   "source": [
    "'''Player that dynaimcally evalutes game states of nim'''\n",
    "class dynamic_player(nim_player):\n",
    "    cache = {}\n",
    "    def get_move(self, game_state):\n",
    "        eval = self.dynamic_eval(game_state)\n",
    "        return eval[0]\n",
    "    def __init__(self, cache_file):\n",
    "        # open the cache file to read\n",
    "        f = open(cache_file, \"r\")\n",
    "        # write every line in the cache file to the dictionary\n",
    "        for line in f:\n",
    "            key_val_pair = line.split(\":\")\n",
    "            self.cache[key_val_pair[0]] = eval(key_val_pair[1])\n",
    "    '''Save cache to a text file'''\n",
    "    def save_cache(self, cache_file):\n",
    "        # delete old cache file\n",
    "        if os.path.exists(cache_file):\n",
    "            os.remove(cache_file)\n",
    "        f = open(cache_file, \"a\")\n",
    "        # write each entry of the dictionary to the cache_file\n",
    "        for i in self.cache:\n",
    "            line = ( i + \":\" + str(self.cache[i]) +\"\\n\" )\n",
    "            f.write(line)\n",
    "        f.close()\n",
    "\n",
    "    '''recursive, dynamic programming algorithm that calculates the optimal action in a game of NIM'''\n",
    "    def dynamic_eval(self, game_state):\n",
    "        # Check cache for game state\n",
    "        #### if gamestate in cache, return evaluation\n",
    "        if str(game_state) in self.cache:\n",
    "            # return evaluation\n",
    "            return self.cache[str(game_state)]\n",
    "        #### gamestate not in cache, evaluate it recursively\n",
    "        else:\n",
    "            ## recursively call dynamic_eval to evaluate legal actions,\n",
    "            action_to_return = ( (0,0), 99999999)\n",
    "            succ_nimbers = []\n",
    "\n",
    "            ## calculate the nimber = minimal excludant of all nimbers of successor states.\n",
    "            #iterate over pile indices\n",
    "            for i in range(len(game_state)):\n",
    "                # iterate over number of stones to take\n",
    "                for j in range(1,4):\n",
    "                    action = (i, j)\n",
    "                    # generate transition state\n",
    "                    next_state = nim_game.do_move(game_state, action)\n",
    "                    # evaluate transition state\n",
    "                    next_state_eval = self.dynamic_eval(next_state)\n",
    "\n",
    "                    #add the nimber to the current list of succ_nimbers\n",
    "                    succ_nimbers.append(next_state_eval[1])\n",
    "\n",
    "                    #return the action that minimizes the nimber\n",
    "                    if next_state_eval[1] == 0:\n",
    "                        action_to_return = (action, 0)\n",
    "                    else:\n",
    "                        # return action that minimizes succ state nimbers\n",
    "                        if action_to_return[1] >= next_state_eval[1]:\n",
    "                            action_to_return = (action, next_state_eval[1])\n",
    "        #pair the best action and the mex nimber\n",
    "        action_tuple = (action_to_return[0], mex(succ_nimbers))\n",
    "        \n",
    "        # add to cache\n",
    "        self.cache[str(game_state)] = action_tuple\n",
    "        return action_tuple\n"
   ]
  },
  {
   "cell_type": "markdown",
   "metadata": {},
   "source": [
    "#### Mining Solutions\n",
    "I wanted to gather data on Nimbers. The option `m` of the text-interface sets my dynamic agent to play against itself. Then it saves the cache generated to a text file `mine_cache.txt`. You many run this option if you wish to mine solutions on your own computer. Warning: it will run indefinitley, use `ctrl+c` to stop mining solutions. In under thirty minutes, my alorithm calculated the nimbers (and thus optimal play) for over 12 million game states. That goes to show the power of dynamic programming! Here is a sample of the cache file."
   ]
  },
  {
   "cell_type": "raw",
   "metadata": {},
   "source": [
    "[]:((0, 1), 0)\n",
    "[1]:((0, 3), 1)\n",
    "[2]:((0, 3), 2)\n",
    "[3]:((0, 3), 3)\n",
    "[4]:((0, 3), 0)\n",
    "[5]:((0, 1), 1)\n",
    "[1, 1]:((1, 3), 0)\n",
    "[1, 2]:((1, 1), 3)\n",
    "[1, 3]:((1, 2), 2)"
   ]
  },
  {
   "cell_type": "markdown",
   "metadata": {},
   "source": [
    "#### Symmetry Breaking\n",
    "The problem space of Nim is considerably large. For every state with n piles, there are approximately, 3n actions. We must check every action at every state. Yielding an uppder bound runtime of `t!*n!*3n` search space. `t` is the number of game states. However, many of the actions are symmetric, meaning that the optimal solution will be the same for both. I employed symmetry breaking to remove these symmetric states. Every Nim state is represented as a list of numbers. I imposed an order on this list of numbers to remove symmetric states. For example, by ordering the list, I reduced the states\n",
    "`[1,2,3],[2,1,3],[1,3,2],[3,2,1],[3,1,2],[2,3,1] ---> [1,2,3]`\n",
    "\n",
    "This reduced the search space from `t!*n!*3n` to `t!*3n`. An incredibly significant improvement."
   ]
  },
  {
   "cell_type": "markdown",
   "metadata": {},
   "source": [
    "## III. Visualization and Analysis\n",
    "Next I wanted to observe some of the properties of nimbers. So I used the cache file that I mined with dynamic programming. I loaded and analyzed the data using Pandas."
   ]
  },
  {
   "cell_type": "code",
   "execution_count": 6,
   "metadata": {},
   "outputs": [
    {
     "ename": "FileNotFoundError",
     "evalue": "[Errno 2] File b'mine_cache.txt1' does not exist: b'mine_cache.txt1'",
     "output_type": "error",
     "traceback": [
      "\u001b[1;31m---------------------------------------------------------------------------\u001b[0m",
      "\u001b[1;31mFileNotFoundError\u001b[0m                         Traceback (most recent call last)",
      "\u001b[1;32m<ipython-input-6-c6bf420a8d4b>\u001b[0m in \u001b[0;36m<module>\u001b[1;34m\u001b[0m\n\u001b[0;32m      1\u001b[0m \u001b[1;32mimport\u001b[0m \u001b[0mpandas\u001b[0m \u001b[1;32mas\u001b[0m \u001b[0mpd\u001b[0m\u001b[1;33m\u001b[0m\u001b[1;33m\u001b[0m\u001b[0m\n\u001b[0;32m      2\u001b[0m \u001b[1;33m\u001b[0m\u001b[0m\n\u001b[1;32m----> 3\u001b[1;33m \u001b[0mmy_df\u001b[0m \u001b[1;33m=\u001b[0m \u001b[0mpd\u001b[0m\u001b[1;33m.\u001b[0m\u001b[0mread_csv\u001b[0m\u001b[1;33m(\u001b[0m\u001b[1;34m\"mine_cache.txt1\"\u001b[0m\u001b[1;33m,\u001b[0m \u001b[0msep\u001b[0m\u001b[1;33m=\u001b[0m\u001b[1;34m\":\"\u001b[0m\u001b[1;33m)\u001b[0m\u001b[1;33m\u001b[0m\u001b[1;33m\u001b[0m\u001b[0m\n\u001b[0m\u001b[0;32m      4\u001b[0m \u001b[1;33m\u001b[0m\u001b[0m\n\u001b[0;32m      5\u001b[0m \u001b[0mmy_df\u001b[0m\u001b[1;33m\u001b[0m\u001b[1;33m\u001b[0m\u001b[0m\n",
      "\u001b[1;32m~\\Anaconda3\\lib\\site-packages\\pandas\\io\\parsers.py\u001b[0m in \u001b[0;36mparser_f\u001b[1;34m(filepath_or_buffer, sep, delimiter, header, names, index_col, usecols, squeeze, prefix, mangle_dupe_cols, dtype, engine, converters, true_values, false_values, skipinitialspace, skiprows, skipfooter, nrows, na_values, keep_default_na, na_filter, verbose, skip_blank_lines, parse_dates, infer_datetime_format, keep_date_col, date_parser, dayfirst, cache_dates, iterator, chunksize, compression, thousands, decimal, lineterminator, quotechar, quoting, doublequote, escapechar, comment, encoding, dialect, error_bad_lines, warn_bad_lines, delim_whitespace, low_memory, memory_map, float_precision)\u001b[0m\n\u001b[0;32m    683\u001b[0m         )\n\u001b[0;32m    684\u001b[0m \u001b[1;33m\u001b[0m\u001b[0m\n\u001b[1;32m--> 685\u001b[1;33m         \u001b[1;32mreturn\u001b[0m \u001b[0m_read\u001b[0m\u001b[1;33m(\u001b[0m\u001b[0mfilepath_or_buffer\u001b[0m\u001b[1;33m,\u001b[0m \u001b[0mkwds\u001b[0m\u001b[1;33m)\u001b[0m\u001b[1;33m\u001b[0m\u001b[1;33m\u001b[0m\u001b[0m\n\u001b[0m\u001b[0;32m    686\u001b[0m \u001b[1;33m\u001b[0m\u001b[0m\n\u001b[0;32m    687\u001b[0m     \u001b[0mparser_f\u001b[0m\u001b[1;33m.\u001b[0m\u001b[0m__name__\u001b[0m \u001b[1;33m=\u001b[0m \u001b[0mname\u001b[0m\u001b[1;33m\u001b[0m\u001b[1;33m\u001b[0m\u001b[0m\n",
      "\u001b[1;32m~\\Anaconda3\\lib\\site-packages\\pandas\\io\\parsers.py\u001b[0m in \u001b[0;36m_read\u001b[1;34m(filepath_or_buffer, kwds)\u001b[0m\n\u001b[0;32m    455\u001b[0m \u001b[1;33m\u001b[0m\u001b[0m\n\u001b[0;32m    456\u001b[0m     \u001b[1;31m# Create the parser.\u001b[0m\u001b[1;33m\u001b[0m\u001b[1;33m\u001b[0m\u001b[1;33m\u001b[0m\u001b[0m\n\u001b[1;32m--> 457\u001b[1;33m     \u001b[0mparser\u001b[0m \u001b[1;33m=\u001b[0m \u001b[0mTextFileReader\u001b[0m\u001b[1;33m(\u001b[0m\u001b[0mfp_or_buf\u001b[0m\u001b[1;33m,\u001b[0m \u001b[1;33m**\u001b[0m\u001b[0mkwds\u001b[0m\u001b[1;33m)\u001b[0m\u001b[1;33m\u001b[0m\u001b[1;33m\u001b[0m\u001b[0m\n\u001b[0m\u001b[0;32m    458\u001b[0m \u001b[1;33m\u001b[0m\u001b[0m\n\u001b[0;32m    459\u001b[0m     \u001b[1;32mif\u001b[0m \u001b[0mchunksize\u001b[0m \u001b[1;32mor\u001b[0m \u001b[0miterator\u001b[0m\u001b[1;33m:\u001b[0m\u001b[1;33m\u001b[0m\u001b[1;33m\u001b[0m\u001b[0m\n",
      "\u001b[1;32m~\\Anaconda3\\lib\\site-packages\\pandas\\io\\parsers.py\u001b[0m in \u001b[0;36m__init__\u001b[1;34m(self, f, engine, **kwds)\u001b[0m\n\u001b[0;32m    893\u001b[0m             \u001b[0mself\u001b[0m\u001b[1;33m.\u001b[0m\u001b[0moptions\u001b[0m\u001b[1;33m[\u001b[0m\u001b[1;34m\"has_index_names\"\u001b[0m\u001b[1;33m]\u001b[0m \u001b[1;33m=\u001b[0m \u001b[0mkwds\u001b[0m\u001b[1;33m[\u001b[0m\u001b[1;34m\"has_index_names\"\u001b[0m\u001b[1;33m]\u001b[0m\u001b[1;33m\u001b[0m\u001b[1;33m\u001b[0m\u001b[0m\n\u001b[0;32m    894\u001b[0m \u001b[1;33m\u001b[0m\u001b[0m\n\u001b[1;32m--> 895\u001b[1;33m         \u001b[0mself\u001b[0m\u001b[1;33m.\u001b[0m\u001b[0m_make_engine\u001b[0m\u001b[1;33m(\u001b[0m\u001b[0mself\u001b[0m\u001b[1;33m.\u001b[0m\u001b[0mengine\u001b[0m\u001b[1;33m)\u001b[0m\u001b[1;33m\u001b[0m\u001b[1;33m\u001b[0m\u001b[0m\n\u001b[0m\u001b[0;32m    896\u001b[0m \u001b[1;33m\u001b[0m\u001b[0m\n\u001b[0;32m    897\u001b[0m     \u001b[1;32mdef\u001b[0m \u001b[0mclose\u001b[0m\u001b[1;33m(\u001b[0m\u001b[0mself\u001b[0m\u001b[1;33m)\u001b[0m\u001b[1;33m:\u001b[0m\u001b[1;33m\u001b[0m\u001b[1;33m\u001b[0m\u001b[0m\n",
      "\u001b[1;32m~\\Anaconda3\\lib\\site-packages\\pandas\\io\\parsers.py\u001b[0m in \u001b[0;36m_make_engine\u001b[1;34m(self, engine)\u001b[0m\n\u001b[0;32m   1133\u001b[0m     \u001b[1;32mdef\u001b[0m \u001b[0m_make_engine\u001b[0m\u001b[1;33m(\u001b[0m\u001b[0mself\u001b[0m\u001b[1;33m,\u001b[0m \u001b[0mengine\u001b[0m\u001b[1;33m=\u001b[0m\u001b[1;34m\"c\"\u001b[0m\u001b[1;33m)\u001b[0m\u001b[1;33m:\u001b[0m\u001b[1;33m\u001b[0m\u001b[1;33m\u001b[0m\u001b[0m\n\u001b[0;32m   1134\u001b[0m         \u001b[1;32mif\u001b[0m \u001b[0mengine\u001b[0m \u001b[1;33m==\u001b[0m \u001b[1;34m\"c\"\u001b[0m\u001b[1;33m:\u001b[0m\u001b[1;33m\u001b[0m\u001b[1;33m\u001b[0m\u001b[0m\n\u001b[1;32m-> 1135\u001b[1;33m             \u001b[0mself\u001b[0m\u001b[1;33m.\u001b[0m\u001b[0m_engine\u001b[0m \u001b[1;33m=\u001b[0m \u001b[0mCParserWrapper\u001b[0m\u001b[1;33m(\u001b[0m\u001b[0mself\u001b[0m\u001b[1;33m.\u001b[0m\u001b[0mf\u001b[0m\u001b[1;33m,\u001b[0m \u001b[1;33m**\u001b[0m\u001b[0mself\u001b[0m\u001b[1;33m.\u001b[0m\u001b[0moptions\u001b[0m\u001b[1;33m)\u001b[0m\u001b[1;33m\u001b[0m\u001b[1;33m\u001b[0m\u001b[0m\n\u001b[0m\u001b[0;32m   1136\u001b[0m         \u001b[1;32melse\u001b[0m\u001b[1;33m:\u001b[0m\u001b[1;33m\u001b[0m\u001b[1;33m\u001b[0m\u001b[0m\n\u001b[0;32m   1137\u001b[0m             \u001b[1;32mif\u001b[0m \u001b[0mengine\u001b[0m \u001b[1;33m==\u001b[0m \u001b[1;34m\"python\"\u001b[0m\u001b[1;33m:\u001b[0m\u001b[1;33m\u001b[0m\u001b[1;33m\u001b[0m\u001b[0m\n",
      "\u001b[1;32m~\\Anaconda3\\lib\\site-packages\\pandas\\io\\parsers.py\u001b[0m in \u001b[0;36m__init__\u001b[1;34m(self, src, **kwds)\u001b[0m\n\u001b[0;32m   1915\u001b[0m         \u001b[0mkwds\u001b[0m\u001b[1;33m[\u001b[0m\u001b[1;34m\"usecols\"\u001b[0m\u001b[1;33m]\u001b[0m \u001b[1;33m=\u001b[0m \u001b[0mself\u001b[0m\u001b[1;33m.\u001b[0m\u001b[0musecols\u001b[0m\u001b[1;33m\u001b[0m\u001b[1;33m\u001b[0m\u001b[0m\n\u001b[0;32m   1916\u001b[0m \u001b[1;33m\u001b[0m\u001b[0m\n\u001b[1;32m-> 1917\u001b[1;33m         \u001b[0mself\u001b[0m\u001b[1;33m.\u001b[0m\u001b[0m_reader\u001b[0m \u001b[1;33m=\u001b[0m \u001b[0mparsers\u001b[0m\u001b[1;33m.\u001b[0m\u001b[0mTextReader\u001b[0m\u001b[1;33m(\u001b[0m\u001b[0msrc\u001b[0m\u001b[1;33m,\u001b[0m \u001b[1;33m**\u001b[0m\u001b[0mkwds\u001b[0m\u001b[1;33m)\u001b[0m\u001b[1;33m\u001b[0m\u001b[1;33m\u001b[0m\u001b[0m\n\u001b[0m\u001b[0;32m   1918\u001b[0m         \u001b[0mself\u001b[0m\u001b[1;33m.\u001b[0m\u001b[0munnamed_cols\u001b[0m \u001b[1;33m=\u001b[0m \u001b[0mself\u001b[0m\u001b[1;33m.\u001b[0m\u001b[0m_reader\u001b[0m\u001b[1;33m.\u001b[0m\u001b[0munnamed_cols\u001b[0m\u001b[1;33m\u001b[0m\u001b[1;33m\u001b[0m\u001b[0m\n\u001b[0;32m   1919\u001b[0m \u001b[1;33m\u001b[0m\u001b[0m\n",
      "\u001b[1;32mpandas\\_libs\\parsers.pyx\u001b[0m in \u001b[0;36mpandas._libs.parsers.TextReader.__cinit__\u001b[1;34m()\u001b[0m\n",
      "\u001b[1;32mpandas\\_libs\\parsers.pyx\u001b[0m in \u001b[0;36mpandas._libs.parsers.TextReader._setup_parser_source\u001b[1;34m()\u001b[0m\n",
      "\u001b[1;31mFileNotFoundError\u001b[0m: [Errno 2] File b'mine_cache.txt1' does not exist: b'mine_cache.txt1'"
     ]
    }
   ],
   "source": [
    "import pandas as pd\n",
    "\n",
    "my_df = pd.read_csv(\"mine_cache.txt1\", sep=\":\")\n",
    "\n",
    "my_df"
   ]
  },
  {
   "cell_type": "markdown",
   "metadata": {},
   "source": [
    "I had a lot more data points than my laptop could handle. I chose to only observe the first one million entries."
   ]
  },
  {
   "cell_type": "code",
   "execution_count": 7,
   "metadata": {
    "scrolled": false
   },
   "outputs": [
    {
     "ename": "KeyError",
     "evalue": "'[1000000 1000001 1000002 ... 12309519 12309520 12309521] not found in axis'",
     "output_type": "error",
     "traceback": [
      "\u001b[1;31m---------------------------------------------------------------------------\u001b[0m",
      "\u001b[1;31mKeyError\u001b[0m                                  Traceback (most recent call last)",
      "\u001b[1;32m<ipython-input-7-77d34b89df89>\u001b[0m in \u001b[0;36m<module>\u001b[1;34m\u001b[0m\n\u001b[1;32m----> 1\u001b[1;33m \u001b[0mmy_df\u001b[0m \u001b[1;33m=\u001b[0m \u001b[0mmy_df\u001b[0m\u001b[1;33m.\u001b[0m\u001b[0mdrop\u001b[0m\u001b[1;33m(\u001b[0m\u001b[0mrange\u001b[0m\u001b[1;33m(\u001b[0m\u001b[1;36m1000000\u001b[0m\u001b[1;33m,\u001b[0m \u001b[1;36m12309522\u001b[0m\u001b[1;33m)\u001b[0m\u001b[1;33m)\u001b[0m\u001b[1;33m\u001b[0m\u001b[1;33m\u001b[0m\u001b[0m\n\u001b[0m",
      "\u001b[1;32m~\\Anaconda3\\lib\\site-packages\\pandas\\core\\frame.py\u001b[0m in \u001b[0;36mdrop\u001b[1;34m(self, labels, axis, index, columns, level, inplace, errors)\u001b[0m\n\u001b[0;32m   4100\u001b[0m             \u001b[0mlevel\u001b[0m\u001b[1;33m=\u001b[0m\u001b[0mlevel\u001b[0m\u001b[1;33m,\u001b[0m\u001b[1;33m\u001b[0m\u001b[1;33m\u001b[0m\u001b[0m\n\u001b[0;32m   4101\u001b[0m             \u001b[0minplace\u001b[0m\u001b[1;33m=\u001b[0m\u001b[0minplace\u001b[0m\u001b[1;33m,\u001b[0m\u001b[1;33m\u001b[0m\u001b[1;33m\u001b[0m\u001b[0m\n\u001b[1;32m-> 4102\u001b[1;33m             \u001b[0merrors\u001b[0m\u001b[1;33m=\u001b[0m\u001b[0merrors\u001b[0m\u001b[1;33m,\u001b[0m\u001b[1;33m\u001b[0m\u001b[1;33m\u001b[0m\u001b[0m\n\u001b[0m\u001b[0;32m   4103\u001b[0m         )\n\u001b[0;32m   4104\u001b[0m \u001b[1;33m\u001b[0m\u001b[0m\n",
      "\u001b[1;32m~\\Anaconda3\\lib\\site-packages\\pandas\\core\\generic.py\u001b[0m in \u001b[0;36mdrop\u001b[1;34m(self, labels, axis, index, columns, level, inplace, errors)\u001b[0m\n\u001b[0;32m   3912\u001b[0m         \u001b[1;32mfor\u001b[0m \u001b[0maxis\u001b[0m\u001b[1;33m,\u001b[0m \u001b[0mlabels\u001b[0m \u001b[1;32min\u001b[0m \u001b[0maxes\u001b[0m\u001b[1;33m.\u001b[0m\u001b[0mitems\u001b[0m\u001b[1;33m(\u001b[0m\u001b[1;33m)\u001b[0m\u001b[1;33m:\u001b[0m\u001b[1;33m\u001b[0m\u001b[1;33m\u001b[0m\u001b[0m\n\u001b[0;32m   3913\u001b[0m             \u001b[1;32mif\u001b[0m \u001b[0mlabels\u001b[0m \u001b[1;32mis\u001b[0m \u001b[1;32mnot\u001b[0m \u001b[1;32mNone\u001b[0m\u001b[1;33m:\u001b[0m\u001b[1;33m\u001b[0m\u001b[1;33m\u001b[0m\u001b[0m\n\u001b[1;32m-> 3914\u001b[1;33m                 \u001b[0mobj\u001b[0m \u001b[1;33m=\u001b[0m \u001b[0mobj\u001b[0m\u001b[1;33m.\u001b[0m\u001b[0m_drop_axis\u001b[0m\u001b[1;33m(\u001b[0m\u001b[0mlabels\u001b[0m\u001b[1;33m,\u001b[0m \u001b[0maxis\u001b[0m\u001b[1;33m,\u001b[0m \u001b[0mlevel\u001b[0m\u001b[1;33m=\u001b[0m\u001b[0mlevel\u001b[0m\u001b[1;33m,\u001b[0m \u001b[0merrors\u001b[0m\u001b[1;33m=\u001b[0m\u001b[0merrors\u001b[0m\u001b[1;33m)\u001b[0m\u001b[1;33m\u001b[0m\u001b[1;33m\u001b[0m\u001b[0m\n\u001b[0m\u001b[0;32m   3915\u001b[0m \u001b[1;33m\u001b[0m\u001b[0m\n\u001b[0;32m   3916\u001b[0m         \u001b[1;32mif\u001b[0m \u001b[0minplace\u001b[0m\u001b[1;33m:\u001b[0m\u001b[1;33m\u001b[0m\u001b[1;33m\u001b[0m\u001b[0m\n",
      "\u001b[1;32m~\\Anaconda3\\lib\\site-packages\\pandas\\core\\generic.py\u001b[0m in \u001b[0;36m_drop_axis\u001b[1;34m(self, labels, axis, level, errors)\u001b[0m\n\u001b[0;32m   3944\u001b[0m                 \u001b[0mnew_axis\u001b[0m \u001b[1;33m=\u001b[0m \u001b[0maxis\u001b[0m\u001b[1;33m.\u001b[0m\u001b[0mdrop\u001b[0m\u001b[1;33m(\u001b[0m\u001b[0mlabels\u001b[0m\u001b[1;33m,\u001b[0m \u001b[0mlevel\u001b[0m\u001b[1;33m=\u001b[0m\u001b[0mlevel\u001b[0m\u001b[1;33m,\u001b[0m \u001b[0merrors\u001b[0m\u001b[1;33m=\u001b[0m\u001b[0merrors\u001b[0m\u001b[1;33m)\u001b[0m\u001b[1;33m\u001b[0m\u001b[1;33m\u001b[0m\u001b[0m\n\u001b[0;32m   3945\u001b[0m             \u001b[1;32melse\u001b[0m\u001b[1;33m:\u001b[0m\u001b[1;33m\u001b[0m\u001b[1;33m\u001b[0m\u001b[0m\n\u001b[1;32m-> 3946\u001b[1;33m                 \u001b[0mnew_axis\u001b[0m \u001b[1;33m=\u001b[0m \u001b[0maxis\u001b[0m\u001b[1;33m.\u001b[0m\u001b[0mdrop\u001b[0m\u001b[1;33m(\u001b[0m\u001b[0mlabels\u001b[0m\u001b[1;33m,\u001b[0m \u001b[0merrors\u001b[0m\u001b[1;33m=\u001b[0m\u001b[0merrors\u001b[0m\u001b[1;33m)\u001b[0m\u001b[1;33m\u001b[0m\u001b[1;33m\u001b[0m\u001b[0m\n\u001b[0m\u001b[0;32m   3947\u001b[0m             \u001b[0mresult\u001b[0m \u001b[1;33m=\u001b[0m \u001b[0mself\u001b[0m\u001b[1;33m.\u001b[0m\u001b[0mreindex\u001b[0m\u001b[1;33m(\u001b[0m\u001b[1;33m**\u001b[0m\u001b[1;33m{\u001b[0m\u001b[0maxis_name\u001b[0m\u001b[1;33m:\u001b[0m \u001b[0mnew_axis\u001b[0m\u001b[1;33m}\u001b[0m\u001b[1;33m)\u001b[0m\u001b[1;33m\u001b[0m\u001b[1;33m\u001b[0m\u001b[0m\n\u001b[0;32m   3948\u001b[0m \u001b[1;33m\u001b[0m\u001b[0m\n",
      "\u001b[1;32m~\\Anaconda3\\lib\\site-packages\\pandas\\core\\indexes\\base.py\u001b[0m in \u001b[0;36mdrop\u001b[1;34m(self, labels, errors)\u001b[0m\n\u001b[0;32m   5338\u001b[0m         \u001b[1;32mif\u001b[0m \u001b[0mmask\u001b[0m\u001b[1;33m.\u001b[0m\u001b[0many\u001b[0m\u001b[1;33m(\u001b[0m\u001b[1;33m)\u001b[0m\u001b[1;33m:\u001b[0m\u001b[1;33m\u001b[0m\u001b[1;33m\u001b[0m\u001b[0m\n\u001b[0;32m   5339\u001b[0m             \u001b[1;32mif\u001b[0m \u001b[0merrors\u001b[0m \u001b[1;33m!=\u001b[0m \u001b[1;34m\"ignore\"\u001b[0m\u001b[1;33m:\u001b[0m\u001b[1;33m\u001b[0m\u001b[1;33m\u001b[0m\u001b[0m\n\u001b[1;32m-> 5340\u001b[1;33m                 \u001b[1;32mraise\u001b[0m \u001b[0mKeyError\u001b[0m\u001b[1;33m(\u001b[0m\u001b[1;34m\"{} not found in axis\"\u001b[0m\u001b[1;33m.\u001b[0m\u001b[0mformat\u001b[0m\u001b[1;33m(\u001b[0m\u001b[0mlabels\u001b[0m\u001b[1;33m[\u001b[0m\u001b[0mmask\u001b[0m\u001b[1;33m]\u001b[0m\u001b[1;33m)\u001b[0m\u001b[1;33m)\u001b[0m\u001b[1;33m\u001b[0m\u001b[1;33m\u001b[0m\u001b[0m\n\u001b[0m\u001b[0;32m   5341\u001b[0m             \u001b[0mindexer\u001b[0m \u001b[1;33m=\u001b[0m \u001b[0mindexer\u001b[0m\u001b[1;33m[\u001b[0m\u001b[1;33m~\u001b[0m\u001b[0mmask\u001b[0m\u001b[1;33m]\u001b[0m\u001b[1;33m\u001b[0m\u001b[1;33m\u001b[0m\u001b[0m\n\u001b[0;32m   5342\u001b[0m         \u001b[1;32mreturn\u001b[0m \u001b[0mself\u001b[0m\u001b[1;33m.\u001b[0m\u001b[0mdelete\u001b[0m\u001b[1;33m(\u001b[0m\u001b[0mindexer\u001b[0m\u001b[1;33m)\u001b[0m\u001b[1;33m\u001b[0m\u001b[1;33m\u001b[0m\u001b[0m\n",
      "\u001b[1;31mKeyError\u001b[0m: '[1000000 1000001 1000002 ... 12309519 12309520 12309521] not found in axis'"
     ]
    }
   ],
   "source": [
    "my_df = my_df.drop(range(1000000, 12309522))"
   ]
  },
  {
   "cell_type": "markdown",
   "metadata": {},
   "source": [
    "#### Data Cleaning\n",
    "I had to clean my data before I could analyze it. The below code makes sure every data point contains the correct data types."
   ]
  },
  {
   "cell_type": "code",
   "execution_count": null,
   "metadata": {},
   "outputs": [],
   "source": [
    "# remove parenthesis\n",
    "my_df['(ACTION,NIMBER)'] = my_df['(ACTION,NIMBER)'].replace('([()])', \"\", regex=True)\n",
    "# convert gamestat to list\n",
    "my_df[\"GAMESTATE\"] = my_df[\"GAMESTATE\"].apply(lambda x: x[1:-1].split(\",\"))\n",
    "\n",
    "#split action, nimber tuple\n",
    "my_df[\"action\"] = my_df['(ACTION,NIMBER)'].apply(lambda x: x.split(\",\")[0:2])\n",
    "my_df[\"nimber\"] = my_df['(ACTION,NIMBER)'].apply(lambda x: x.split(\",\")[2])\n",
    "\n",
    "# drop the old action nimber pair\n",
    "my_df = my_df.drop('(ACTION,NIMBER)', axis=1)\n",
    "\n",
    "# convert nimber data type to integer\n",
    "my_df = my_df.astype({\"nimber\": \"int64\"})"
   ]
  },
  {
   "cell_type": "code",
   "execution_count": null,
   "metadata": {},
   "outputs": [],
   "source": [
    "my_df.dtypes"
   ]
  },
  {
   "cell_type": "markdown",
   "metadata": {},
   "source": [
    "#### Analysis\n",
    "Let's see how frequently we see each nimber."
   ]
  },
  {
   "cell_type": "code",
   "execution_count": null,
   "metadata": {},
   "outputs": [],
   "source": [
    "my_df[\"nimber\"].value_counts()"
   ]
  },
  {
   "cell_type": "markdown",
   "metadata": {},
   "source": [
    "From this we can see that each nimber makes up about 25% of all game states."
   ]
  },
  {
   "cell_type": "code",
   "execution_count": null,
   "metadata": {},
   "outputs": [],
   "source": [
    "pie_chart = my_df[\"nimber\"].value_counts().plot.pie()\n",
    "pie_chart"
   ]
  },
  {
   "cell_type": "markdown",
   "metadata": {},
   "source": [
    "From the point of view of the first player, 25% of all Nim games are lost from the beginning. The other 75% are winning states. By observing this, we can deduce the optimal choice when a player is asked whether to move first or second. __A player should always decide to move first if they do not know the game state.__"
   ]
  },
  {
   "cell_type": "markdown",
   "metadata": {},
   "source": [
    "Let's also check how complete our binary XOR evaluation policy was. I did this by calculating the percentage of losing games (nimber = 0) whose cumulative binary xor of the gamestate was also 0."
   ]
  },
  {
   "cell_type": "code",
   "execution_count": null,
   "metadata": {},
   "outputs": [],
   "source": [
    "#subset of only losing games\n",
    "losing_states = my_df[my_df['nimber'] == 0]\n",
    "\n",
    "# function calculating cumulative binary XOR of a list of integers\n",
    "def binary_xor(gamestate):\n",
    "    acc_sum = 0\n",
    "    for i in gamestate:\n",
    "        try:\n",
    "            i = int(i)\n",
    "            acc_sum = acc_sum ^ i\n",
    "        except:\n",
    "            continue\n",
    "    return acc_sum\n",
    "\n",
    "# create a new column showing the binary XOR of each losing state\n",
    "losing_states[\"XOR\"] = losing_states[\"GAMESTATE\"].apply(lambda x: binary_xor(x))\n",
    "\n",
    "losing_states\n",
    "\n",
    "\n"
   ]
  },
  {
   "cell_type": "code",
   "execution_count": 8,
   "metadata": {},
   "outputs": [
    {
     "data": {
      "text/plain": [
       "0"
      ]
     },
     "execution_count": 8,
     "metadata": {},
     "output_type": "execute_result"
    }
   ],
   "source": [
    "binary_xor([3, 3, 5, 7, 8, 8, 8, 9, 10, 10, 11] + [3, 3, 5, 7, 8, 8, 8, 9, 11, 11, 11])"
   ]
  },
  {
   "cell_type": "markdown",
   "metadata": {},
   "source": [
    "Now lets calculate how many of these losing states can be found by my binary xor evaluation policy."
   ]
  },
  {
   "cell_type": "code",
   "execution_count": 46,
   "metadata": {},
   "outputs": [
    {
     "data": {
      "text/plain": [
       "4     63475\n",
       "8     62959\n",
       "0     62352\n",
       "12    61404\n",
       "Name: XOR, dtype: int64"
      ]
     },
     "execution_count": 46,
     "metadata": {},
     "output_type": "execute_result"
    }
   ],
   "source": [
    "losing_states[\"XOR\"].value_counts()"
   ]
  },
  {
   "cell_type": "code",
   "execution_count": 47,
   "metadata": {},
   "outputs": [
    {
     "data": {
      "text/plain": [
       "<matplotlib.axes._subplots.AxesSubplot at 0x1bc13273d68>"
      ]
     },
     "execution_count": 47,
     "metadata": {},
     "output_type": "execute_result"
    },
    {
     "data": {
      "image/png": "[encoded data removed]",
      "text/plain": [
       "<Figure size 432x288 with 1 Axes>"
      ]
     },
     "metadata": {},
     "output_type": "display_data"
    }
   ],
   "source": [
    "losing_states[\"XOR\"].value_counts().plot.pie()"
   ]
  },
  {
   "cell_type": "markdown",
   "metadata": {},
   "source": [
    "The binary evaluation policy was able to evaluate 25% of total losing states. Even more interestingly, the binary XOR of a losing states is always a multiple of 4. To write an optimal complete policy, we need to evaluate all states whose cumulative binary XOR is a multiple of 4 as losing states. By the Grundy-Sprague theorem, this policy is complete and optimal."
   ]
  },
  {
   "cell_type": "markdown",
   "metadata": {},
   "source": [
    "## IV. Conclusion\n",
    "We can use nimbers to develop and evaluate policies for the game of nim. Earlier we found that the optimal policy was to chose an action with a successor state such that the _cumulative XOR of the number of stones in every pile is a multiple of 4_. Nim is also interesting because it can be extended to any impartial, two-person, deterministic, zero-sum, game. We could use the same strategies to evaluate nim in games like Tic-Tac-Toe and Mancala. Furthermore, we may apply game theory real-life situations instead of games.\n",
    "\n",
    "Suppose two competing stores are filling their stocks with products of a limited supply. The stores can only purchase a finite number of products at once. Neither store wants to run out of stock before their opponent. That is, if they run out of stock they loose.\n",
    "\n",
    "This situation can be defined as a game in the same class as Nim. We could calculate the nimbers for the game and deduce the optimal strategy for each shop.\n",
    "\n",
    "Thank you for reading!\n",
    "\n",
    "__THE END__"
   ]
  },
  {
   "cell_type": "markdown",
   "metadata": {},
   "source": [
    "## Sources\n",
    "https://www.geeksforgeeks.org/introduction-to-combinatorial-game-theory/ <br>\n",
    "https://www.geeksforgeeks.org/combinatorial-game-theory-set-2-game-nim/?ref=lbp <br>\n",
    "https://www.geeksforgeeks.org/combinatorial-game-theory-set-3-grundy-numbersnimbers-and-mex/?ref=lbp <br>\n",
    "https://www.geeksforgeeks.org/combinatorial-game-theory-set-4-sprague-grundy-theorem/?ref=lbp <br>\n",
    "\n",
    "http://library.msri.org/books/Book29/files/unsolved.pdf <br>\n"
   ]
  },
  {
   "cell_type": "code",
   "execution_count": null,
   "metadata": {},
   "outputs": [],
   "source": []
  }
 ],
 "metadata": {
  "kernelspec": {
   "display_name": "Python 3",
   "language": "python",
   "name": "python3"
  },
  "language_info": {
   "codemirror_mode": {
    "name": "ipython",
    "version": 3
   },
   "file_extension": ".py",
   "mimetype": "text/x-python",
   "name": "python",
   "nbconvert_exporter": "python",
   "pygments_lexer": "ipython3",
   "version": "3.7.3"
  }
 },
 "nbformat": 4,
 "nbformat_minor": 2
}
